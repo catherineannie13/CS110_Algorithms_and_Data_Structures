{
 "cells": [
  {
   "cell_type": "markdown",
   "metadata": {},
   "source": [
    "# CS110 Final: Plagiarism Detector"
   ]
  },
  {
   "cell_type": "markdown",
   "metadata": {},
   "source": [
    "Suppose each student submission is a string that is a result of concatenating all the words there (i.e., white spaces are removed). Let X and Y be two student submission strings. Find all the common substrings of length k (known as k-gram) of the two strings. In other words, determine all (i,j) where X[i:i+k]=Y[j:j+k].\n",
    "\n",
    "For example, X=\"today is Monday\", Y=\"day\".\n",
    "All possible (i,j) from these two strings are (2,0) and (10,0) for k=3 (“day\" appears twice in X, and we disregard the white spaces)."
   ]
  },
  {
   "cell_type": "markdown",
   "metadata": {},
   "source": [
    "1.You will build the first implementation to solve the problem stated above. The algorithm is as follows:\n",
    "* Store all length-k substrings of X into a hash table TX with the hash values computed by using rolling\n",
    "hashing.\n",
    "* For each substring sy in Y, compute the hash value h(sy) using rolling hashing, and use this hash value to look up sy in table TX. If the lookup is successful, then we have a common substring.\n",
    "\n",
    "Using this algorithm, complete the function below. There is a lot to fill in as you write the code:\n",
    "* You will need to specify q for the hash function a mod q in rolling hashing. However, do not worry about fine-tuning q—so long as you choose a prime number and provide a justification for why your chosen value of q makes sense with regards to the table size.\n",
    "* Other design choices should be thoroughly justified, including but not limited to: the hash table’s size, data structures used, and any additional Python functions.\n",
    "* No external libraries should be used, except for math, random, and numpy.\n",
    "\n",
    "Demonstrate that your code works as expected by testing it with at least three, non-trivial test cases."
   ]
  },
  {
   "cell_type": "code",
   "execution_count": 1,
   "metadata": {},
   "outputs": [],
   "source": [
    "def first_hash(substring, base, q):\n",
    "    '''\n",
    "    Converts a string to a hash value within the table size (q) limit by multiplying each ascii \n",
    "    character integer (value - ascii '0') by the base to decreasing powers.\n",
    "    Eg. 'cat'= 51*base^2 + 49*base^1 + 68*base^0\n",
    "    \n",
    "    Parameters\n",
    "    ----------\n",
    "    substring: str\n",
    "        substring for which to compute the hash value\n",
    "    base: int\n",
    "        multiplier for individual letter values\n",
    "    q: int\n",
    "        table size (prime number)\n",
    "    \n",
    "    Returns\n",
    "    ---------\n",
    "    int\n",
    "        an index within the table size (hashed substring value)\n",
    "    '''\n",
    "    string_int = 0\n",
    "    n = len(substring)\n",
    "    \n",
    "    # sum all individual letters -> overall integer for string\n",
    "    for i in range(n):\n",
    "        \n",
    "        # subtract ord('0') to decrease large computations\n",
    "        string_int += (ord(substring[i])-ord('0')) * base**(n-i-1)\n",
    "        \n",
    "    # mod q ensures hash value key sits within table size\n",
    "    return string_int % q\n",
    "\n",
    "\n",
    "def subsequent_hash(substring, prev_hash, next_letter, base, q):\n",
    "    '''\n",
    "    Converts string to a hash value within the limits of the hash table (q) using the previous \n",
    "    strings hash value (rolling hashing). Function will produce the same hash value key for the \n",
    "    substring as calling first_hash.\n",
    "    \n",
    "    Parameters\n",
    "    ----------\n",
    "    substring: str\n",
    "        substring for which to compute the hash value\n",
    "    prev_hash: int\n",
    "        key computed for the previous substring\n",
    "    next_letter: char\n",
    "        character to add to the end of the previous substring\n",
    "    base: int \n",
    "        multiplier for individual letter values\n",
    "    q: int\n",
    "        table size (prime number)\n",
    "        \n",
    "    Returns\n",
    "    --------\n",
    "    int\n",
    "        an index within the table size (hashed substring value)\n",
    "    '''\n",
    "    # power of base for subsequent string\n",
    "    m = len(substring)\n",
    "    \n",
    "    # add next character to end\n",
    "    add_next = (prev_hash*base + (ord(next_letter)-ord('0'))) % q\n",
    "\n",
    "    # remove starting character of current substring\n",
    "    return (add_next - (ord(substring[0])-ord('0'))*((base**m) % q)) % q\n",
    "\n",
    "\n",
    "def hash_1(hash_value, q):\n",
    "    '''\n",
    "    Computes hash function 1 for use in double hashing.\n",
    "    \n",
    "    Parameters\n",
    "    ----------\n",
    "    hash_value: int\n",
    "        the value of the hash for the current substring\n",
    "    q: int\n",
    "        prime number table size\n",
    "        \n",
    "    Returns\n",
    "    ---------\n",
    "    int\n",
    "        hash value 1 (within table size)\n",
    "    '''\n",
    "    return hash_value % q\n",
    "\n",
    "\n",
    "def hash_2(hash_value, value, table_size):\n",
    "    '''\n",
    "    Computes hash function 2 for use in double hashing.\n",
    "    \n",
    "    Parameters\n",
    "    ----------\n",
    "    hash_value: int\n",
    "        the value of the hash for the current substring\n",
    "    value: int\n",
    "        to compute iterator value in double hashing\n",
    "        \n",
    "    Returns\n",
    "    ---------\n",
    "    int\n",
    "        hash value 2\n",
    "    '''\n",
    "    # accounts for potential iterating over same index\n",
    "    if value - (hash_value % value) != table_size:\n",
    "        return value - (hash_value % value)\n",
    "    \n",
    "    return value - (hash_value % value) - 1\n",
    "    \n",
    "def first_string_table_creator(string, k, base, table_size):\n",
    "    '''\n",
    "    Creates a hash table for a string using rolling hashing. When collisions occur, double\n",
    "    hashing is used to find new indexes.\n",
    "    \n",
    "    Parameters\n",
    "    ----------\n",
    "    string: str\n",
    "        string for which to create the table\n",
    "    k: int\n",
    "        length of each substring to store in table\n",
    "    base: int\n",
    "        to compute hash values\n",
    "    table_size: int\n",
    "        size of hash table (must be larger than string length - k, and a prime number)\n",
    "    \n",
    "    Returns\n",
    "    ---------\n",
    "    hash_table: dict\n",
    "        hash table storing all contiguous length k substrings in input string, as well as \n",
    "        the index at which they are found in the initial string\n",
    "    '''\n",
    "    #initialise hash table\n",
    "    keys = [i for i in range(table_size)]\n",
    "    hash_table = {key: None for key in keys}\n",
    "\n",
    "    for i in range(len(string)-k+1):\n",
    "        substring = string[i:i+k]\n",
    "        \n",
    "        # first iteration, we have no previous hash, therefore must call from beginning\n",
    "        if i==0:\n",
    "            prev_hash = first_hash(substring, base, table_size)\n",
    "            hash_table[prev_hash] = [substring, i]\n",
    "            \n",
    "        else:\n",
    "            # subsequent hash takes previous string (1 before current substring)\n",
    "            prev_hash = subsequent_hash(string[i-1:i+k-1], prev_hash, string[i+k-1], base, table_size)\n",
    "            \n",
    "            # if slot unoccupied, it can be filled\n",
    "            if hash_table[prev_hash] == None:\n",
    "                hash_table[prev_hash] = [substring, i]\n",
    "\n",
    "            # if slot already full, try to find new one using double hashing\n",
    "            else:\n",
    "                iterator = 1\n",
    "                new_index = prev_hash\n",
    "                hash1 = hash_1(prev_hash, table_size)\n",
    "                hash2 = hash_2(prev_hash, base, table_size)\n",
    "                \n",
    "                # run until unoccupied slot found\n",
    "                while hash_table[new_index] is not None:\n",
    "                    new_index = (hash1 + iterator*hash2) % table_size\n",
    "                    iterator += 1\n",
    "                    \n",
    "                    # table full!\n",
    "                    if iterator == table_size:\n",
    "                        raise ValueError('no room left in hash table, increase table size')\n",
    "                \n",
    "                # insert at new index found through double hashing\n",
    "                hash_table[new_index] = [substring, i]\n",
    "\n",
    "    return hash_table\n",
    "\n",
    "\n",
    "def lookup(prev_hash, base, substring, hash_table, table_size):\n",
    "    '''\n",
    "    Searches for a substring in a given hash table, returning the list of indexes at which it \n",
    "    can be found.\n",
    "    \n",
    "    Parameters\n",
    "    ----------\n",
    "    prev_hash: int\n",
    "        value of prev_hash to compute double hashing resolution indexes\n",
    "    base: int\n",
    "        to compute hash values in double hashing\n",
    "    substring: str\n",
    "        substring to find in table\n",
    "    hash_table: dict\n",
    "        hash table in which to find substring\n",
    "    table_size: int\n",
    "        prime number table size\n",
    "    \n",
    "    Returns\n",
    "    ---------\n",
    "    matched_indexes: lst\n",
    "        indexes at which substring is found in hash table\n",
    "    '''\n",
    "    matched_indexes = []\n",
    "    iterator = 1\n",
    "    \n",
    "    # new_index changed with each iteration below, prev_hash must remain same to calculate hash values\n",
    "    new_index = prev_hash\n",
    "    hash1 = hash_1(prev_hash, table_size)         \n",
    "    hash2 = hash_2(prev_hash, base, table_size)\n",
    "        \n",
    "    # run until unoccupied slot found or entire table iterated through\n",
    "    while hash_table[new_index] is not None and iterator < table_size:\n",
    "        \n",
    "        # accounts for same index, different substring\n",
    "        if hash_table[new_index][0] == substring:\n",
    "            matched_indexes.append(hash_table[new_index][1]) \n",
    "\n",
    "        new_index = (hash1 + iterator*hash2) % table_size\n",
    "        iterator += 1\n",
    "                       \n",
    "    return matched_indexes\n",
    "\n",
    "    \n",
    "def rh_get_match(x, y, k, table_size = 104729):\n",
    "    '''\n",
    "    Finds indexes of matching substrings of length k between string x and y.\n",
    "    Eg. Output [(0, 4), (6, 10)] indicates the substring starting at index 0 in string x matches that at index 4 \n",
    "    in string y, and that starting at index 6 in x matches index 10 in y.\n",
    "    \n",
    "    Parameters\n",
    "    ----------\n",
    "    x: str\n",
    "        first string on which a table is made\n",
    "    y: str\n",
    "        second string (substrings of which are searched for in table created by x)\n",
    "    k: int\n",
    "        length of substrings\n",
    "    table_size: int\n",
    "        length of table size, a prime number larger than string length x\n",
    "        \n",
    "    Returns\n",
    "    --------\n",
    "    matches: lst \n",
    "        list of tuples containing indexes that contain matching substrings between x and y\n",
    "    '''\n",
    "    base = 33\n",
    "    matches = []\n",
    "    \n",
    "    # creates hash table for k-length substrings in x\n",
    "    hash_table = first_string_table_creator(x, k, base, table_size)\n",
    "    \n",
    "    for i in range(len(y)-k+1):\n",
    "        substring = y[i:k+i]\n",
    "        \n",
    "        if i==0:\n",
    "            prev_hash = first_hash(substring, base, table_size)\n",
    "        else:\n",
    "            prev_hash = subsequent_hash(y[i-1:k+i-1], prev_hash, y[i+k-1], base, table_size)\n",
    "\n",
    "        match_list = lookup(prev_hash, base, substring, hash_table, table_size)\n",
    "        \n",
    "        # append indexes of matches to list of matches (none if list empty)\n",
    "        for m in match_list:\n",
    "            matches.append((m, i))\n",
    "\n",
    "    return matches"
   ]
  },
  {
   "cell_type": "code",
   "execution_count": 2,
   "metadata": {},
   "outputs": [],
   "source": [
    "def clean_string(string):\n",
    "    '''\n",
    "    Removes bad characters, new lines, tabs, and spaces from a string.\n",
    "    \n",
    "    Parameters\n",
    "    ----------\n",
    "    string: str\n",
    "        string from which to remove bad characters and spaces\n",
    "    \n",
    "    Returns\n",
    "    ---------\n",
    "    clean_string: str\n",
    "        cleaned string without bad characters and spaces\n",
    "    '''\n",
    "    # remove bad characters\n",
    "    bad_chars = [';', ',', '.', '?', '!', '-', '_', '[', ']', '(', ')', '^', '<', '>']\n",
    "    no_bad_chars_string = ''.join(c for c in string if c not in bad_chars)\n",
    "    \n",
    "    # remove spaces, tabs\n",
    "    no_tabs_string = ''.join(c if (c not in ['\\n', '\\r', '\\t']) else \"\" for c in no_bad_chars_string)\n",
    "    clean_string = no_tabs_string.replace(' ', '')\n",
    "    \n",
    "    return clean_string"
   ]
  },
  {
   "cell_type": "markdown",
   "metadata": {},
   "source": [
    "#### Test Cases"
   ]
  },
  {
   "cell_type": "code",
   "execution_count": 3,
   "metadata": {},
   "outputs": [],
   "source": [
    "# some basic test cases\n",
    "\n",
    "x = 'helloworldlowa'\n",
    "y = 'getdownlowandlower'\n",
    "k = 3\n",
    "assert rh_get_match(x, y, k, 19) == [(3, 7), (10, 7), (11, 8), (9, 12), (3, 13), (10, 13)]\n",
    "\n",
    "# completely matching, k=1 should return all indexes\n",
    "h = 'day'\n",
    "j = 'day'\n",
    "k = 1\n",
    "assert rh_get_match(h, j, k, 7) == [(0, 0), (1, 1), (2, 2)]\n",
    "\n",
    "# changing k\n",
    "l = 'itsaverynicedaytodayisntitbaby'\n",
    "m = 'nicetomeetyoubabyboy'\n",
    "k = 4\n",
    "assert rh_get_match(l, m, k, 29) == [(8, 0), (26, 13)]\n",
    "\n",
    "# numbers should still provide matches\n",
    "n = '94meadowavenue'\n",
    "o = '94mewsave'\n",
    "k = 3\n",
    "assert rh_get_match(n, o, k, 13) == [(0, 0), (1, 1), (8, 6)]\n",
    "\n",
    "# capitals should still run through algorithms, but not match ('p'!='P')\n",
    "p = 'EnvironmentalProtectionAgency'\n",
    "q = 'theyshouldhaveacertainprotectioninthelocalenvironment'\n",
    "k = 10\n",
    "assert rh_get_match(p, q, k, 29) == [(1, 43)]"
   ]
  },
  {
   "cell_type": "code",
   "execution_count": 4,
   "metadata": {},
   "outputs": [],
   "source": [
    "# random test case (run multiple times for multiple test cases)\n",
    "\n",
    "import random\n",
    "\n",
    "random_string_1 = ''\n",
    "random_string_2 = ''\n",
    "for i in range(10000):\n",
    "    # full range of ascii capitals, lowercase, numbers, and some symbols \n",
    "    random_string_1 += chr(random.randint(48, 122))\n",
    "    random_string_2 += chr(random.randint(48, 122))\n",
    "\n",
    "random_string_1 = clean_string(random_string_1)\n",
    "random_string_1 = clean_string(random_string_2)\n",
    "\n",
    "k = 4\n",
    "matches_1 = rh_get_match(random_string_1, random_string_2, k, 15013)\n",
    "\n",
    "for m in matches_1:\n",
    "    assert random_string_1[m[0]:m[0]+k] == random_string_2[m[1]:m[1]+k]"
   ]
  },
  {
   "cell_type": "markdown",
   "metadata": {},
   "source": [
    "#### Deciding Optimal Table Sizes and Load Factor"
   ]
  },
  {
   "cell_type": "code",
   "execution_count": 5,
   "metadata": {},
   "outputs": [
    {
     "data": {
      "image/png": "[encoded data removed]",
      "text/plain": [
       "<Figure size 432x288 with 1 Axes>"
      ]
     },
     "metadata": {
      "needs_background": "light"
     },
     "output_type": "display_data"
    },
    {
     "data": {
      "image/png": "[encoded data removed]",
      "text/plain": [
       "<Figure size 432x288 with 1 Axes>"
      ]
     },
     "metadata": {
      "needs_background": "light"
     },
     "output_type": "display_data"
    }
   ],
   "source": [
    "import matplotlib.pyplot as plt\n",
    "import time\n",
    "\n",
    "# table sizes ranging from load factor ~1 to ~0.5\n",
    "table_sizes = [1009, 1097, 1201, 1301, 1399, 1499, 1601, 1699, 1801, 1901, 1999]\n",
    "times_for_each = [0 for i in range(len(table_sizes))]\n",
    "times = []\n",
    "n = 10\n",
    "\n",
    "for i in range(n):\n",
    "    \n",
    "    random_string_1 = ''\n",
    "    random_string_2 = ''\n",
    "    for i in range(1000):\n",
    "        random_string_1 += chr(random.randint(97, 122))\n",
    "        random_string_2 += chr(random.randint(97, 122))\n",
    "    \n",
    "    for i in range(len(table_sizes)):\n",
    "        start = time.time()\n",
    "        rh_get_match(random_string_1, random_string_2, 3, table_sizes[i])\n",
    "        end = time.time()\n",
    "        times_for_each[i] += (end-start)\n",
    "\n",
    "for i in times_for_each:\n",
    "    times.append(i/n)\n",
    "\n",
    "# table sizes plot\n",
    "plt.plot(table_sizes, times, label = 'Table sizes')\n",
    "plt.xlabel('Table size')\n",
    "plt.ylabel('Time (seconds)')\n",
    "plt.title('Time Taken to Run Matches Function for Different Table Sizes for String of Length 1000')\n",
    "plt.show()\n",
    "\n",
    "# load factors plot\n",
    "load_factors = [1000/t for t in table_sizes]\n",
    "plt.plot(load_factors, times, label = 'Load factor')\n",
    "plt.xlabel('Load factor')\n",
    "plt.ylabel('Time (seconds)')\n",
    "plt.title('Time Taken to Run Matches Function for Different Load Factors for String of Length 1000')\n",
    "plt.show()"
   ]
  },
  {
   "cell_type": "markdown",
   "metadata": {},
   "source": [
    "As you can see from the above plots, the time taken for the function to run is significantly increased when we have a table size that is not much greater than the input string length. Looking at the second plot regarding load factors, the critical bend appears to occur at about 0.8 load factor. Above this value, very frequent collisions occur, leading to a large time for the algorithm to run. For this reason, it makes sense to use a table size that is about 1.25 times the length of the input string. The downside to this is that we must use extra memory to store a larger dictionary which contains entries without values.\n",
    "\n",
    "For an application in which we have a lot of memory available, and we want the algorithm to run as quickly as possible (maybe for very long input strings), we may choose to use an even smaller load factor, closer to 0.5 or even smaller. On the other hand, for an application in which we have very limited memory, and are using short input strings, we may choose to use an even higher load factor (> 0.8)."
   ]
  },
  {
   "cell_type": "markdown",
   "metadata": {},
   "source": [
    "#### Deciding Base Value to Reduce Collisions"
   ]
  },
  {
   "cell_type": "code",
   "execution_count": 6,
   "metadata": {},
   "outputs": [],
   "source": [
    "def first_string_table_creator_cols(string, k, base, table_size):\n",
    "    '''\n",
    "    Adapted from first_string_table_creator.\n",
    "    Computes numbers of collisions that occur at each index in hash table.\n",
    "    Creates a hash table for a string using rolling hashing. When collisions occur, double\n",
    "    hashing is used to find new indexes.\n",
    "    \n",
    "    Parameters\n",
    "    ----------\n",
    "    string: str\n",
    "        string for which to create the table\n",
    "    k: int\n",
    "        length of each substring to store in table\n",
    "    base: int\n",
    "        to compute hash values\n",
    "    table_size: int\n",
    "        size of hash table (must be larger than string length - k, and a prime number)\n",
    "    \n",
    "    Returns\n",
    "    ---------\n",
    "    collisions: lst\n",
    "        gives number of collisions that occur in both regular and double hashing for each\n",
    "        key in hash table\n",
    "    '''\n",
    "    #initialise hash table\n",
    "    keys = [i for i in range(table_size)]\n",
    "    hash_table = {key: None for key in keys}\n",
    "    collisions = [0 for i in range(table_size)]\n",
    "    \n",
    "    for i in range(len(string)-k+1):\n",
    "        substring = string[i:i+k]\n",
    "        \n",
    "        # first iteration, we have no previous hash, therefore must call from beginning\n",
    "        if i==0:\n",
    "            prev_hash = first_hash(substring, base, table_size)\n",
    "            hash_table[prev_hash] = [substring, i]\n",
    "            \n",
    "        else:\n",
    "            # subsequent hash takes previous string (1 before current substring)\n",
    "            prev_hash = subsequent_hash(string[i-1:i+k-1], prev_hash, string[i+k-1], base, table_size)\n",
    "            \n",
    "            # if slot unoccupied, it can be filled\n",
    "            if hash_table[prev_hash] == None:\n",
    "                hash_table[prev_hash] = [substring, i]\n",
    "\n",
    "            # if slot already full, try to find new one using double hashing\n",
    "            else:\n",
    "                collisions[prev_hash] += 1\n",
    "                iterator = 1\n",
    "                new_index = prev_hash\n",
    "                \n",
    "                # run until unoccupied slot found\n",
    "                while hash_table[new_index] is not None:\n",
    "                    new_index = (hash_1(prev_hash, table_size) + iterator*hash_2(prev_hash, base, table_size)) % table_size\n",
    "                    iterator += 1\n",
    "                    #collisions[new_index] += 1\n",
    "                    \n",
    "                    # table full!\n",
    "                    if iterator == table_size:\n",
    "                        raise ValueError('no room left in hash table, increase table size')\n",
    "                \n",
    "                # insert at new index found through double hashing\n",
    "                hash_table[new_index] = [substring, i]\n",
    "\n",
    "    return collisions"
   ]
  },
  {
   "cell_type": "code",
   "execution_count": 7,
   "metadata": {},
   "outputs": [
    {
     "name": "stdout",
     "output_type": "stream",
     "text": [
      "Total number of collisions: 853\n"
     ]
    },
    {
     "data": {
      "image/png": "[encoded data removed]",
      "text/plain": [
       "<Figure size 432x288 with 1 Axes>"
      ]
     },
     "metadata": {
      "needs_background": "light"
     },
     "output_type": "display_data"
    },
    {
     "name": "stdout",
     "output_type": "stream",
     "text": [
      "Total number of collisions: 361\n"
     ]
    },
    {
     "data": {
      "image/png": "[encoded data removed]",
      "text/plain": [
       "<Figure size 432x288 with 1 Axes>"
      ]
     },
     "metadata": {
      "needs_background": "light"
     },
     "output_type": "display_data"
    },
    {
     "name": "stdout",
     "output_type": "stream",
     "text": [
      "Total number of collisions: 361\n"
     ]
    },
    {
     "data": {
      "image/png": "[encoded data removed]",
      "text/plain": [
       "<Figure size 432x288 with 1 Axes>"
      ]
     },
     "metadata": {
      "needs_background": "light"
     },
     "output_type": "display_data"
    },
    {
     "name": "stdout",
     "output_type": "stream",
     "text": [
      "Total number of collisions: 363\n"
     ]
    },
    {
     "data": {
      "image/png": "[encoded data removed]",
      "text/plain": [
       "<Figure size 432x288 with 1 Axes>"
      ]
     },
     "metadata": {
      "needs_background": "light"
     },
     "output_type": "display_data"
    },
    {
     "name": "stdout",
     "output_type": "stream",
     "text": [
      "Total number of collisions: 415\n"
     ]
    },
    {
     "data": {
      "image/png": "[encoded data removed]",
      "text/plain": [
       "<Figure size 432x288 with 1 Axes>"
      ]
     },
     "metadata": {
      "needs_background": "light"
     },
     "output_type": "display_data"
    },
    {
     "name": "stdout",
     "output_type": "stream",
     "text": [
      "Total number of collisions: 779\n"
     ]
    },
    {
     "data": {
      "image/png": "[encoded data removed]",
      "text/plain": [
       "<Figure size 432x288 with 1 Axes>"
      ]
     },
     "metadata": {
      "needs_background": "light"
     },
     "output_type": "display_data"
    }
   ],
   "source": [
    "random_string_collisions = ''\n",
    "for i in range(1000):\n",
    "    random_string_collisions += chr(random.randint(97, 122))\n",
    "\n",
    "k = 3\n",
    "table_size = 1499\n",
    "bases = [3, 10, 50, 100, 250, 500]\n",
    "\n",
    "for base in bases:\n",
    "    collisions = first_string_table_creator_cols(random_string_collisions, k, base, table_size)\n",
    "    print('Total number of collisions:', sum(collisions))\n",
    "    plt.bar([i for i in range(table_size)], collisions)\n",
    "    plt.xlabel('Hash table index')\n",
    "    plt.ylabel('Frequency of collisions')\n",
    "    plt.title('Frequencies of Collisions at Different Hash Table Indexes with Base Value '+str(base))\n",
    "    plt.show()"
   ]
  },
  {
   "cell_type": "markdown",
   "metadata": {},
   "source": [
    "We want our base value to ensure 2 things:\n",
    "1. That the keys chosen are uniformly distributed, and therefore we should observe collisions across the entire range of hash table indexes above.\n",
    "2. The total number of collisions is at a minimum (a consequence of having uniform keys is that the collisions should be reduced).\n",
    "\n",
    "Considering the above plots for different base values, it seems as though the optimal value to avoid collisions lies around 50.  Below this, we see a single group cluster in which collisions frequently occur, and therefore the total number of collisions is great, and not ideal. Above this, collisions are clustered into periodic groupings of high frequencies. This also leads to a high number of overall collisions which is also not ideal. Base values 20, 50, and 100 all produce graphs that are uniform, and low collision numbers, therefore a choice in this range would be ideal. Similar patterns are observed when we change the string length and table size."
   ]
  },
  {
   "cell_type": "markdown",
   "metadata": {},
   "source": [
    "#### Justification of Hashing\n",
    "* Hashing- The use of hashing in this application reduces insertion and lookup times for the hash table (as will be discussed in question 4). Because every single substring within x needs to be inserted into the hash table, and every substring in y needs to be looked up within the table, the time complexities of these algorithms are very important (as we must perform them many times).\n",
    "    * Rolling hashing- The use of rolling hashing allows us to compute hash values based on the previous hash value. This means that we don't need to start from scratch everytime we need to compute a hash value for a substring, and therefore reduces the computations. As you can see from the first_hash function above, we must iterate over the length of the substring (k), giving it a time complexity O(k), however the subsequent_hash does not require this iteration, and therefore runs in O(1) time. This function therefore allows us to reduce the overall time complexity, with the limitation that we must have simpler hash functions so that we are able to compute hashes based on the previous hash.\n",
    "* Alternatively, we may choose a different data structures to build the plagiarism detector, such as a trie tree. In this implementation, we would insert all substrings in x into the tree (each substring would follow a path down the tree from the root to a leaf, and those with common prefixes would share nodes higher up the tree, eg. 'cat' and 'car' would have the same first 2 nodes, bar the root). We must also store the indexes at which the substrings are found in their leaf nodes. We could then lookup each substring from y in the trie tree, appending to a matches list when the word is found. The time complexity of such an approach would likely be O(k(m+n)), O(km) for tree creation, and O(kn) for searching. Though this would also work to solve the problem at hand, we do not require the added functionality of being able to lookup words via their prefixes. Therefore this implementation is possible, but not necessary, as a hash table provides us with an easy method to lookup entire substrings. Furthermore, the time complexity of such an approach grows poor with large values of k. The rolling hash approach will provide a better time complexity (as will be discussed in question 4).\n",
    "    \n",
    "#### Justification of Dictionary as Hash Table\n",
    "* I have used a dictionary to create my hash table in this case as it has allowed me to store both the hash values as keys (to access in lookups), and the values which take the form of lists: [substring, index at which substring is found]. I have chosen a dictionary in this case instead of a list to aid in the debugging process of the algorithm. This allowed me to easily determine which substrings were associated with which hash value keys (rather than having to figure out indexes in a list).\n",
    "    * Lists as values in hash table dictionary- In order to retrieve the original position of a specific substring within the initial list x, it was necessary to store both the substring and the index at which it was found in the original string. This allowed me to retrieve the indexes within the lookup algorithm.\n",
    "    \n",
    "#### Justification of Double Hashing\n",
    "* The use of double hashing helps to reduce collisions within the hash table when inputting substrings, and create uniformly-distributed values within the table by reducing primary and secondary clustering. There are several alternatives to this method:\n",
    "    * Linear probing- Though this method is generally simpler as it linearly moves through the table with iterations, it can lead to primary clustering in which the hash table is filled with blocks of values. This often means that many collisions may occur before we find an empty space (long probing sequence), increasing the time complexity of the algorithm.  \n",
    "    * Quadratic probing- Though this method eliminates the issue of primary clustering as it raises the key to an iterator, it can be subject to secondary clustering, which occurs when 2 keys have the same hash value, and therefore will have the same probing sequence. This can lead to many positions being tried until an empty one is found, therefore increasing the time complexity. Furthermore, the probe sequence is unlikely to move through all possible locations, meaning a table size much larger than the input length x is likely required.\n",
    "    * Chaining- In this method, when collisions occur, the relevant substring would be linked to the substring at the current hash key. Though this eliminates the need for probing, the sequences attached to keys can become very long, increasing the time taken to search the table, and therefore potentially damaging the O(1) search complexity. In the case that we needed to delete from the table, this method could be advantageous, as the methods used above would require for restructuring of the table after deletion. However, seen as this is not required in plagiarism detection, chaining holds no advantages over open-addressing."
   ]
  },
  {
   "cell_type": "markdown",
   "metadata": {},
   "source": [
    "2.You will now work on the second version of this algorithm:\n",
    "* Store all length-k substrings of X into a hash table TX, using a hash function that does not entail the\n",
    "division method.\n",
    "* For each substring sy in Y, compute the hash value h(sy) and use this hash value to look up sy in table TX. If the lookup is successful, then we have a common substring.\n",
    "\n",
    "Note that using a hash function that does not entail the division method prohibits the use of rolling hashing.\n",
    "Asymptotically speaking, we are essentially taking more time for computing hash values in this version.\n",
    "However, we are now free to choose a more fancy function, so there is a tradeoff here.\n",
    "* Provide a string reflection on what makes a good hash function. Run an experiment to give empirical evidence to support your choice for the hash function.\n",
    "* Implement the second version of the algorithm described above using the template below. Make sure to:\n",
    "    * Justify any design choices (the hash function, the hash table’s size, the data structures used, and any additionally built Python functions).\n",
    "    * Write clean and well-structured code, making use of PEP 8 coding conventions. Because this version only differs from the one in question 1 in how the hash values are computed, try to organize your code in a clear way that reutilizes as much functionality as the one you have already provided code for (for example, consider adding the hashing method either as a positional argument or as a method of choice if you wrap your code in a Python class).\n",
    "    * No external libraries should be used, except for the math, random, and numpy modules.\n",
    "* Illustrate how your code works by giving an explicit example. Further, implement at least three test cases to make sure your code works as expected."
   ]
  },
  {
   "cell_type": "code",
   "execution_count": 8,
   "metadata": {},
   "outputs": [],
   "source": [
    "def djb2_hash(substring, q):\n",
    "    '''\n",
    "    Converts a string to a hash value within the table size (q) using the djb2 algorithm.\n",
    "    \n",
    "    Parameters\n",
    "    ----------\n",
    "    substring: str\n",
    "        substring for which to compute the hash value\n",
    "    base: int\n",
    "        multiplier for individual letter values\n",
    "    q: int\n",
    "        table size (prime number)\n",
    "    \n",
    "    Returns\n",
    "    ---------\n",
    "    int\n",
    "        an index within the table size (hashed substring value)\n",
    "    '''\n",
    "    n = len(substring)\n",
    "    hash_value = 5381\n",
    "    \n",
    "    for i in substring:\n",
    "        hash_value = (hash_value * 33) + ord(i)\n",
    "    \n",
    "    return hash_value % q\n",
    "\n",
    "\n",
    "def hash_1(hash_value, q):\n",
    "    '''\n",
    "    Computes hash function 1 for use in double hashing.\n",
    "    \n",
    "    Parameters\n",
    "    ----------\n",
    "    hash_value: int\n",
    "        the value of the hash for the current substring\n",
    "    q: int\n",
    "        prime number table size\n",
    "        \n",
    "    Returns\n",
    "    ---------\n",
    "    int\n",
    "        hash value 1 (within table size)\n",
    "    '''\n",
    "    return hash_value % q\n",
    "\n",
    "\n",
    "def hash_2(hash_value, value, table_size):\n",
    "    '''\n",
    "    Computes hash function 2 for use in double hashing.\n",
    "    \n",
    "    Parameters\n",
    "    ----------\n",
    "    hash_value: int\n",
    "        the value of the hash for the current substring\n",
    "    value: int\n",
    "        to compute iterator value in double hashing\n",
    "        \n",
    "    Returns\n",
    "    ---------\n",
    "    int\n",
    "        hash value 2\n",
    "    '''\n",
    "    # accounts for potential iterating over same index\n",
    "    if value - (hash_value % value) != table_size:\n",
    "        return value - (hash_value % value)\n",
    "    \n",
    "    return value - (hash_value % value) - 1\n",
    "    \n",
    "def reg_first_string_table_creator(string, k, base, table_size):\n",
    "    '''\n",
    "    Creates a hash table for a string using rolling hashing. When collisions occur, double\n",
    "    hashing is used to find new indexes.\n",
    "    \n",
    "    Parameters\n",
    "    ----------\n",
    "    string: str\n",
    "        string for which to create the table\n",
    "    k: int\n",
    "        length of each substring to store in table\n",
    "    base: int\n",
    "        to compute hash values\n",
    "    table_size: int\n",
    "        size of hash table (must be larger than string length - k, and a prime number)\n",
    "    \n",
    "    Returns\n",
    "    ---------\n",
    "    hash_table: dict\n",
    "        hash table storing all contiguous length k substrings in input string, as well as \n",
    "        the index at which they are found in the initial string\n",
    "    '''\n",
    "    #initialise hash table\n",
    "    keys = [i for i in range(table_size)]\n",
    "    hash_table = {key: None for key in keys}\n",
    "\n",
    "    for i in range(len(string)-k+1):\n",
    "        substring = string[i:i+k]\n",
    "        \n",
    "        prev_hash = djb2_hash(substring, table_size)\n",
    "        \n",
    "        # if slot unoccupied, it can be filled\n",
    "        if hash_table[prev_hash] == None:\n",
    "            hash_table[prev_hash] = [substring, i]\n",
    "\n",
    "        # if slot already full, try to find new one using double hashing\n",
    "        else:\n",
    "            iterator = 1\n",
    "            new_index = prev_hash\n",
    "            hash1 = hash_1(prev_hash, table_size)\n",
    "            hash2 = hash_2(prev_hash, base, table_size)\n",
    "                \n",
    "            # run until unoccupied slot found\n",
    "            while hash_table[new_index] is not None:\n",
    "                #print(substring, new_index)\n",
    "                new_index = (hash1 + iterator*hash2) % table_size\n",
    "                iterator += 1\n",
    "                \n",
    "                # table full!\n",
    "                if iterator == table_size:\n",
    "                    raise ValueError('no room left in hash table, increase table size')\n",
    "            \n",
    "            # insert at new index found through double hashing\n",
    "            hash_table[new_index] = [substring, i]\n",
    "\n",
    "    return hash_table\n",
    "\n",
    "\n",
    "def reg_lookup(prev_hash, base, substring, hash_table, table_size):\n",
    "    '''\n",
    "    Searches for a substring in a given hash table, returning the list of indexes at which it \n",
    "    can be found.\n",
    "    \n",
    "    Parameters\n",
    "    ----------\n",
    "    prev_hash: int\n",
    "        value of prev_hash to compute double hashing resolution indexes\n",
    "    base: int\n",
    "        to compute hash values in double hashing\n",
    "    substring: str\n",
    "        substring to find in table\n",
    "    hash_table: dict\n",
    "        hash table in which to find substring\n",
    "    table_size: int\n",
    "        prime number table size, default large prime number\n",
    "    \n",
    "    Returns\n",
    "    ---------\n",
    "    matched_indexes: lst\n",
    "        indexes at which substring is found in hash table\n",
    "    '''\n",
    "    matched_indexes = []\n",
    "    iterator = 1\n",
    "    \n",
    "    # new_index changed with each iteration below, prev_hash must remain same to calculate hash values\n",
    "    new_index = prev_hash\n",
    "    hash1 = hash_1(prev_hash, table_size)         \n",
    "    hash2 = hash_2(prev_hash, base, table_size)\n",
    "        \n",
    "    # run until unoccupied slot found or entire table iterated through\n",
    "    while hash_table[new_index] is not None and iterator < table_size:\n",
    "        \n",
    "        # accounts for same index, different substring\n",
    "        if hash_table[new_index][0] == substring:\n",
    "            matched_indexes.append(hash_table[new_index][1]) \n",
    "\n",
    "        new_index = (hash1 + iterator*hash2) % table_size\n",
    "        iterator += 1\n",
    "                       \n",
    "    return matched_indexes\n",
    "\n",
    "    \n",
    "def regular_get_match(x, y, k, table_size = 104729):\n",
    "    '''\n",
    "    Finds indexes of matching substrings of length k between string x and y.\n",
    "    Eg. Output [(0, 4), (6, 10)] indicates the substring starting at index 0 in string x matches that at index 4 \n",
    "    in string y, and that starting at index 6 in x matches index 10 in y.\n",
    "    \n",
    "    Parameters\n",
    "    ----------\n",
    "    x: str\n",
    "        first string on which a table is made\n",
    "    y: str\n",
    "        second string (substrings of which are searched for in table created by x)\n",
    "    k: int\n",
    "        length of substrings\n",
    "    table_size: int\n",
    "        length of table size, a prime number larger than string length x\n",
    "        \n",
    "    Returns\n",
    "    --------\n",
    "    matches: lst \n",
    "        list of tuples containing indexes that contain matching substrings between x and y\n",
    "    '''\n",
    "    base = 25\n",
    "    matches = []\n",
    "    \n",
    "    # creates hash table for k-length substrings in x\n",
    "    hash_table = reg_first_string_table_creator(x, k, base, table_size)\n",
    "    \n",
    "    for i in range(len(y)-k+1):\n",
    "        substring = y[i:k+i]\n",
    "        \n",
    "        prev_hash = djb2_hash(substring, table_size)\n",
    "        match_list = reg_lookup(prev_hash, base, substring, hash_table, table_size)\n",
    "        \n",
    "        # append indexes of matches to list of matches (none if list empty)\n",
    "        for m in match_list:\n",
    "            matches.append((m, i))\n",
    "\n",
    "    return matches"
   ]
  },
  {
   "cell_type": "markdown",
   "metadata": {},
   "source": [
    "#### Test Cases"
   ]
  },
  {
   "cell_type": "code",
   "execution_count": 9,
   "metadata": {},
   "outputs": [],
   "source": [
    "x = 'helloworldlowa'\n",
    "y = 'getdownlowandlower'\n",
    "k = 3\n",
    "assert regular_get_match(x, y, k, 19) == [(3, 7), (10, 7), (11, 8), (9, 12), (3, 13), (10, 13)]\n",
    "\n",
    "# completely matching, k=1 should return all indexes\n",
    "h = 'day'\n",
    "j = 'day'\n",
    "k = 1\n",
    "assert regular_get_match(h, j, k, 7) == [(0, 0), (1, 1), (2, 2)]\n",
    "\n",
    "# changing k\n",
    "l = 'itsaverynicedaytodayisntitbaby'\n",
    "m = 'nicetomeetyoubabyboy'\n",
    "k = 4\n",
    "assert regular_get_match(l, m, k, 29) == [(8, 0), (26, 13)]\n",
    "\n",
    "# numbers should still provide matches\n",
    "n = '94meadowavenue'\n",
    "o = '94mewsave'\n",
    "k = 3\n",
    "assert regular_get_match(n, o, k, 13) == [(0, 0), (1, 1), (8, 6)]\n",
    "\n",
    "# capitals should still run through algorithms, but not match ('p'!='P')\n",
    "p = 'EnvironmentalProtectionAgency'\n",
    "q = 'theyshouldhaveacertainprotectioninthelocalenvironment'\n",
    "k = 10\n",
    "assert regular_get_match(p, q, k, 29) == [(1, 43)]"
   ]
  },
  {
   "cell_type": "code",
   "execution_count": 10,
   "metadata": {},
   "outputs": [],
   "source": [
    "random_string_1 = ''\n",
    "random_string_2 = ''\n",
    "for i in range(10000):\n",
    "    # full range of ascii capitals, lowercase, numbers, and some symbols \n",
    "    random_string_1 += chr(random.randint(48, 122))\n",
    "    random_string_2 += chr(random.randint(48, 122))\n",
    "    \n",
    "random_string_1 = clean_string(random_string_1)\n",
    "random_string_2 = clean_string(random_string_2)\n",
    "\n",
    "k = 4\n",
    "matches_1 = regular_get_match(random_string_1, random_string_2, k, 15013)\n",
    "\n",
    "for m in matches_1:\n",
    "    assert random_string_1[m[0]:m[0]+k] == random_string_2[m[1]:m[1]+k]"
   ]
  },
  {
   "cell_type": "markdown",
   "metadata": {},
   "source": [
    "#### Deciding Load Factor/Table Size"
   ]
  },
  {
   "cell_type": "code",
   "execution_count": 11,
   "metadata": {},
   "outputs": [
    {
     "data": {
      "image/png": "[encoded data removed]",
      "text/plain": [
       "<Figure size 432x288 with 1 Axes>"
      ]
     },
     "metadata": {
      "needs_background": "light"
     },
     "output_type": "display_data"
    },
    {
     "data": {
      "image/png": "[encoded data removed]",
      "text/plain": [
       "<Figure size 432x288 with 1 Axes>"
      ]
     },
     "metadata": {
      "needs_background": "light"
     },
     "output_type": "display_data"
    }
   ],
   "source": [
    "import matplotlib.pyplot as plt\n",
    "import time\n",
    "\n",
    "# table sizes ranging from load factor ~1 to ~0.5\n",
    "table_sizes = [1009, 1097, 1201, 1301, 1399, 1499, 1601, 1699, 1801, 1901, 1999]\n",
    "times_for_each = [0 for i in range(len(table_sizes))]\n",
    "times = []\n",
    "n = 10\n",
    "\n",
    "for i in range(n):\n",
    "    \n",
    "    random_string_1 = ''\n",
    "    random_string_2 = ''\n",
    "    for i in range(1000):\n",
    "        random_string_1 += chr(random.randint(97, 122))\n",
    "        random_string_2 += chr(random.randint(97, 122))\n",
    "    \n",
    "    for i in range(len(table_sizes)):\n",
    "        start = time.time()\n",
    "        regular_get_match(random_string_1, random_string_2, 3, table_sizes[i])\n",
    "        end = time.time()\n",
    "        times_for_each[i] += (end-start)\n",
    "\n",
    "for i in times_for_each:\n",
    "    times.append(i/n)\n",
    "\n",
    "# table sizes plot\n",
    "plt.plot(table_sizes, times, label = 'Table sizes')\n",
    "plt.xlabel('Table size')\n",
    "plt.ylabel('Time (seconds)')\n",
    "plt.title('Time Taken to Run Matches Function for Different Table Sizes for String of Length 1000')\n",
    "plt.show()\n",
    "\n",
    "# load factors plot\n",
    "load_factors = [1000/t for t in table_sizes]\n",
    "plt.plot(load_factors, times, label = 'Load factor')\n",
    "plt.xlabel('Load factor')\n",
    "plt.ylabel('Time (seconds)')\n",
    "plt.title('Time Taken to Run Matches Function for Different Load Factors for String of Length 1000')\n",
    "plt.show()"
   ]
  },
  {
   "cell_type": "markdown",
   "metadata": {},
   "source": [
    "Through testing different table sizes in the same manner as for rh_get_match, we see that a similar load factor is ideal (~0.8). Again, using this kind of load factor will allow us to maintain a balance between memory and time complexities. However, depending on the application, we may wish to increase the table size (giving a smaller load factor) if we want the absolute best runtime, and if we are not short on memory. On the other hand, we may even choose a greater load factor (smaller table size) if we have very limited memory, and if we do not care about runtime, perhaps in the case that string-lengths to input are few and short, as the algorithm will still run quickly for a short input regardless."
   ]
  },
  {
   "cell_type": "markdown",
   "metadata": {},
   "source": [
    "#### Observing and Comparing Collisions to rh_get_match"
   ]
  },
  {
   "cell_type": "code",
   "execution_count": 12,
   "metadata": {},
   "outputs": [],
   "source": [
    "def reg_first_string_table_creator_cols(string, k, base, table_size):\n",
    "    '''\n",
    "    Adapted from first_string_table_creator.\n",
    "    Computes numbers of collisions that occur at each index in hash table.\n",
    "    Creates a hash table for a string using rolling hashing. When collisions occur, double\n",
    "    hashing is used to find new indexes.\n",
    "    \n",
    "    Parameters\n",
    "    ----------\n",
    "    string: str\n",
    "        string for which to create the table\n",
    "    k: int\n",
    "        length of each substring to store in table\n",
    "    base: int\n",
    "        to compute hash values\n",
    "    table_size: int\n",
    "        size of hash table (must be larger than string length - k, and a prime number)\n",
    "    \n",
    "    Returns\n",
    "    ---------\n",
    "    collisions: lst\n",
    "        gives number of collisions that occur in both regular and double hashing for each\n",
    "        key in hash table\n",
    "    '''\n",
    "    #initialise hash table\n",
    "    keys = [i for i in range(table_size)]\n",
    "    hash_table = {key: None for key in keys}\n",
    "    collisions = [0 for i in range(table_size)]\n",
    "\n",
    "    for i in range(len(string)-k+1):\n",
    "        substring = string[i:i+k]\n",
    "        \n",
    "        prev_hash = djb2_hash(substring, table_size)\n",
    "        \n",
    "        # if slot unoccupied, it can be filled\n",
    "        if hash_table[prev_hash] == None:\n",
    "            hash_table[prev_hash] = [substring, i]\n",
    "\n",
    "        # if slot already full, try to find new one using double hashing\n",
    "        else:\n",
    "            collisions[prev_hash] += 1\n",
    "            iterator = 1\n",
    "            new_index = prev_hash\n",
    "            hash1 = hash_1(prev_hash, table_size)\n",
    "            hash2 = hash_2(prev_hash, base, table_size)\n",
    "                \n",
    "            # run until unoccupied slot found\n",
    "            while hash_table[new_index] is not None:\n",
    "\n",
    "                new_index = (hash1 + iterator*hash2) % table_size\n",
    "                iterator += 1\n",
    "                \n",
    "                # table full!\n",
    "                if iterator == table_size:\n",
    "                    raise ValueError('no room left in hash table, increase table size')\n",
    "            \n",
    "            # insert at new index found through double hashing\n",
    "            hash_table[new_index] = [substring, i]\n",
    "\n",
    "    return collisions"
   ]
  },
  {
   "cell_type": "code",
   "execution_count": 13,
   "metadata": {},
   "outputs": [
    {
     "name": "stdout",
     "output_type": "stream",
     "text": [
      "Total number of collisions: 316\n"
     ]
    },
    {
     "data": {
      "image/png": "[encoded data removed]",
      "text/plain": [
       "<Figure size 432x288 with 1 Axes>"
      ]
     },
     "metadata": {
      "needs_background": "light"
     },
     "output_type": "display_data"
    }
   ],
   "source": [
    "random_string_collisions = ''\n",
    "for i in range(1000):\n",
    "    random_string_collisions += chr(random.randint(97, 122))\n",
    "\n",
    "k = 3\n",
    "table_size = 1499\n",
    "base = 50 # does not matter for initial hashing anymore, only used in collisions \n",
    "\n",
    "collisions = reg_first_string_table_creator_cols(random_string_collisions, k, base, table_size)\n",
    "print('Total number of collisions:', sum(collisions))\n",
    "plt.bar([i for i in range(table_size)], collisions)\n",
    "plt.xlabel('Hash table index')\n",
    "plt.ylabel('Frequency of collisions')\n",
    "plt.title('Frequencies of Collisions at Different Hash Table Indexes Using djb2 Hashing')\n",
    "plt.show()"
   ]
  },
  {
   "cell_type": "markdown",
   "metadata": {},
   "source": [
    "Considering the distribution and total frequency of collisions in regular hashing, we see that the overall number of collisions is similar to that of the best case in rolling hashing. Furthermore, the hash value collisions are uniformly-distributed (there is no clustering around particular values, and the peaks spread the entire range of possible values). We can rerun the above cell to see if the distribution changes, which it does, but remains uniform."
   ]
  },
  {
   "cell_type": "markdown",
   "metadata": {},
   "source": [
    "#### What Makes a Good Hash Function"
   ]
  },
  {
   "cell_type": "markdown",
   "metadata": {},
   "source": [
    "An optimal hash function should produce any value in the range of the hash table with equal probability. It should do this in an algorithmic manner, taking the key (or substring in this case), and outputting a number which can be the key in the hash table. A good way to do this is often through the use of prime numbers, which prevent cyclical values occuring. However this is achieved, the keys produced should look completely random. This even distribution helps to prevent clustering, which can harm the O(1) operations of a hash table by:\n",
    "* causing more collisions to occur at certain keys in the table and probing sequences increase (can no longer assume operations are O(1) as a consequence)\n",
    "* storing too many values at certain positions in chaining that we must then search through for our value (lookup no longer O(1))\n",
    "\n",
    "The djb2 hash function, as used above, uses the prime numbers 5381 and 33 to generate pseudo-random hash keys to place into the table, producing evenly-distributed entries into the table, reducing clustering and collisions, and therefore average time complexity."
   ]
  },
  {
   "cell_type": "markdown",
   "metadata": {},
   "source": [
    "3. Carefully describe how you would use the code above to investigate the extent of plagiarism. Enumerate potential pitfalls and challenges of applying this algorithm for real-life use (you can also compare both of these algorithms with a more brute-force approach to plagiarism detection; if you do this, make sure to describe how such approach would work and why it wouldn’t be very appealing from a computational standpoint). Make sure you justify all the assumptions you make."
   ]
  },
  {
   "cell_type": "markdown",
   "metadata": {},
   "source": [
    "In order to investigate the extent of plagiarism, the above code could be used, specifying k as the length of the strings you would like to match. Using a k of about 40 may (~7 words) give a good overview of phrases that match between the 2 strings. To produce a more complex algorithm that determines a plagiarism score/similarity score between 2 texts, we could use rh_get_match or regular_get_match to produce a list of matching strings, then determine the percentage of text x that is the same as text y. This method may work well for applications such as professors checking for plagiarism between students work.\n",
    "\n",
    "Considering a brute force approach to plagiarism detection, we may create the most simple algorithm that moves along string x stepwise, and compares each substring of length k to every substring in y, looking for matches in substrings (see below for a brute force implementation). This, however, is not very computationally appealing as we can no longer simply lookup a substring in O(1) time, but instead must compare this substring to every substring in the other string (more on time complexity discussed below). This does not, however, take up much memory (less than the above algorithms) as we need not store the hash table. Therefore, we may choose this approach if we are short on memory, and if we have short string lengths to compare (as the time will be low regardless of the algorithm for short inputs). In the case where we require long string inputs and have enough memory, however, the rolling and regular hashing methods would likely be better."
   ]
  },
  {
   "cell_type": "markdown",
   "metadata": {},
   "source": [
    "4. Discuss the time complexity of each algorithmic version. Compare and contrast the two versions by experimenting on self-generated inputs. You are encouraged to generate inputs of various natures as that would be more likely to tease out the strengths and/or weaknesses of the versions."
   ]
  },
  {
   "cell_type": "code",
   "execution_count": 14,
   "metadata": {},
   "outputs": [],
   "source": [
    "def brute_force_matches(x, y, k):\n",
    "    '''\n",
    "    Compares all substrings between x and y by sliding along x, comparing each \n",
    "    substring to all substrings in y.\n",
    "    \n",
    "    Parameters\n",
    "    ----------\n",
    "    x: str\n",
    "        first string for which to find matches\n",
    "    y: str\n",
    "        second string for which to find matches\n",
    "    k: int\n",
    "        length of substrings to compare\n",
    "        \n",
    "    Returns\n",
    "    ---------\n",
    "    matches: lst\n",
    "        list of tuples containing indexes that contain matching substrings between x and y\n",
    "    '''\n",
    "    matches = []\n",
    "    \n",
    "    # number of substrings in x\n",
    "    for i in range(len(x)-k+1):\n",
    "        \n",
    "        # from position of substring in x to end of y\n",
    "        for j in range(i, len(y)-k+1):\n",
    "            \n",
    "            if x[i:i+k] == y[j:j+k]:\n",
    "                matches.append((i, j))\n",
    "    \n",
    "    return matches"
   ]
  },
  {
   "cell_type": "code",
   "execution_count": 15,
   "metadata": {},
   "outputs": [],
   "source": [
    "random_string_1 = ''\n",
    "random_string_2 = ''\n",
    "for i in range(1000):\n",
    "    # full range of ascii capitals, lowercase, numbers, and some symbols \n",
    "    random_string_1 += chr(random.randint(48, 122))\n",
    "    random_string_2 += chr(random.randint(48, 122))\n",
    "\n",
    "random_string_1 = clean_string(random_string_1)\n",
    "random_string_1 = clean_string(random_string_2)\n",
    "\n",
    "k = 4\n",
    "matches_1 = brute_force_matches(random_string_1, random_string_2, k)\n",
    "\n",
    "for m in matches_1:\n",
    "    assert random_string_1[m[0]:m[0]+k] == random_string_2[m[1]:m[1]+k]"
   ]
  },
  {
   "cell_type": "code",
   "execution_count": 16,
   "metadata": {
    "scrolled": true
   },
   "outputs": [
    {
     "data": {
      "image/png": "[encoded data removed]",
      "text/plain": [
       "<Figure size 432x288 with 1 Axes>"
      ]
     },
     "metadata": {
      "needs_background": "light"
     },
     "output_type": "display_data"
    }
   ],
   "source": [
    "n = 10 # repetitions \n",
    "k = 10 # string length\n",
    "\n",
    "string_lengths = [0, 10, 50, 100, 500, 1000, 2000]\n",
    "brute_times = [0, 0, 0, 0, 0, 0, 0]\n",
    "rolling_times = [0, 0, 0, 0, 0, 0, 0]\n",
    "regular_times = [0, 0, 0, 0, 0, 0, 0]\n",
    "\n",
    "for i in range(n):\n",
    "    for j in range(len(string_lengths)):\n",
    "        \n",
    "        # new random strings every time\n",
    "        random_string_1 = ''\n",
    "        random_string_2 = ''\n",
    "        for l in range(string_lengths[j]):\n",
    "            random_string_1 += chr(random.randint(97, 122))\n",
    "            random_string_2 += chr(random.randint(97, 122))\n",
    "        \n",
    "        start = time.time()\n",
    "        brute_force_matches(random_string_1, random_string_2, k)\n",
    "        end = time.time()\n",
    "        brute_times[j] += (end-start)\n",
    "        \n",
    "        start = time.time()\n",
    "        rh_get_match(random_string_1, random_string_2, k)\n",
    "        end = time.time()\n",
    "        rolling_times[j] += (end-start)\n",
    "        \n",
    "        start = time.time()\n",
    "        regular_get_match(random_string_1, random_string_2, k)\n",
    "        end = time.time()\n",
    "        regular_times[j] += (end-start)\n",
    "\n",
    "# compute averages\n",
    "brute_times = [t/n for t in brute_times]\n",
    "rolling_times = [t/n for t in rolling_times]\n",
    "regular_times = [t/n for t in regular_times]\n",
    "\n",
    "plt.plot(string_lengths, brute_times, label = 'Brute force')\n",
    "plt.plot(string_lengths, rolling_times, label = 'Rolling hashing')\n",
    "plt.plot(string_lengths, regular_times, label = 'Regular hashing')\n",
    "plt.legend()\n",
    "plt.xlabel('String length input')\n",
    "plt.ylabel('Time taken (seconds)')\n",
    "plt.title('Time Taken for Brute Force, Rolling and Regular Hashing Approaches for Different String Length Inputs When k = 10')\n",
    "plt.show()"
   ]
  },
  {
   "cell_type": "code",
   "execution_count": 17,
   "metadata": {},
   "outputs": [
    {
     "data": {
      "image/png": "[encoded data removed]",
      "text/plain": [
       "<Figure size 432x288 with 1 Axes>"
      ]
     },
     "metadata": {
      "needs_background": "light"
     },
     "output_type": "display_data"
    }
   ],
   "source": [
    "n = 10 # repetitions \n",
    "k = 100 # string length\n",
    "\n",
    "string_lengths = [0, 10, 50, 100, 500, 1000, 2000]\n",
    "brute_times = [0, 0, 0, 0, 0, 0, 0]\n",
    "rolling_times = [0, 0, 0, 0, 0, 0, 0]\n",
    "regular_times = [0, 0, 0, 0, 0, 0, 0]\n",
    "\n",
    "for i in range(n):\n",
    "    for j in range(len(string_lengths)):\n",
    "        \n",
    "        # new random strings every time\n",
    "        random_string_1 = ''\n",
    "        random_string_2 = ''\n",
    "        for l in range(string_lengths[j]):\n",
    "            random_string_1 += chr(random.randint(97, 122))\n",
    "            random_string_2 += chr(random.randint(97, 122))\n",
    "        \n",
    "        start = time.time()\n",
    "        brute_force_matches(random_string_1, random_string_2, k)\n",
    "        end = time.time()\n",
    "        brute_times[j] += (end-start)\n",
    "        \n",
    "        start = time.time()\n",
    "        rh_get_match(random_string_1, random_string_2, k)\n",
    "        end = time.time()\n",
    "        rolling_times[j] += (end-start)\n",
    "        \n",
    "        start = time.time()\n",
    "        regular_get_match(random_string_1, random_string_2, k)\n",
    "        end = time.time()\n",
    "        regular_times[j] += (end-start)\n",
    "\n",
    "# compute averages\n",
    "brute_times = [t/n for t in brute_times]\n",
    "rolling_times = [t/n for t in rolling_times]\n",
    "regular_times = [t/n for t in regular_times]\n",
    "\n",
    "plt.plot(string_lengths, brute_times, label = 'Brute force')\n",
    "plt.plot(string_lengths, rolling_times, label = 'Rolling hashing')\n",
    "plt.plot(string_lengths, regular_times, label = 'Regular hashing')\n",
    "plt.legend()\n",
    "plt.xlabel('String length input')\n",
    "plt.ylabel('Time taken (seconds)')\n",
    "plt.title('Time Taken for Brute Force, Rolling and Regular Hashing Approaches for Different String Length Inputs When k = 100')\n",
    "plt.show()"
   ]
  },
  {
   "cell_type": "markdown",
   "metadata": {},
   "source": [
    "In order to determine and compare the time complexities of each algorithm, I will consider the length of string x as m, and the length of string y as n.\n",
    "\n",
    "Analytical analysis:\n",
    "* Rolling hashing- To create the table, we insert each substring of x into it. Each insertion is Omega(1), with the assumptions of uniform hashing being fulfilled as we can see in collision plots in question 1, and the discussion below them, the load factor < 1, and computing each hash value takes Omega(1). Therefore, the overall time complexity to create the table is Omega(m) (m-k insertions) as each substring must be inserted. To lookup in this table takes again Omega(1) time, following the same assumptions as before. We must lookup each substring in y, therefore producing a time complexity of Omega(n) (n-k lookups) for searching the table. The overall time complexity of this algorithm is therefore Omega(m+n), as we may simply sum the 2 parts. In the absolute worst-case scenario, each insertion and lookup could take O(m) or O(n) if many collisions occur, to give an overall complexity of O(m(m+n)), O(m^2) for table creation, and O(mn) for searching. However, due to the uniform hashing in the above implementation, we can assume our algorithm runs in O(m+n) time on average.\n",
    "* Regular hashing- Unlike rolling hashing, we must compute every hash value from scratch. To compute these hash values takes Omega(k) time, as we must iterate over each character in the substring. The time complexity to create the table will therefore become Omega(km), as we must compute the hash value and insert it for every substring in x. To lookup a substring in the table will become Omega(k) also, due to the computation of the hash value, giving an overall lookup complexity of Omega(kn). Therefore, the overall time complexity for regular hashing will be Omega(k(m+n)). In the absolute worst-case scenario, each insertion and lookup could take O(m) or O(n) if many collisions occur, to give an overall complexity of O(km(m+n)), O(km^2) for table creation, and O(kmn) for searching. However, due to the uniform hashing in the above implementation, we can assume our algorithm runs in O(k(m+n)) time on average.\n",
    "    * Though this is not as bad as a brute force approach, the constant factor k means that the time complexity is worse for regular hashing. This is a cause of computing each hash value from scratch for each substring. The difference in times between the regular and rolling hashing will therefore likely have a greater effect as k grows larger. For this reason, it may only be applicable to use regular hashing if we are searching for matches of small lengths between the 2 substrings, otherwise rolling hashing will take less time.\n",
    "* Brute force- Because we compare every single string in x to every string in y, we must multiply the 2 lengths to give a time complexity of Theta(mn), significantly worse than the 2 algorithms above. The time complexity of this algorithm is always the same, regardless of the input.\n",
    "\n",
    "Graphical analysis:\n",
    "\n",
    "To produce the above plots, I have varied the lengths of string inputs, and the algorithms observed (the independent variables), and stored the time taken for each input length (the dependent variable). For each plot, I have controlled the size of the hash tables, so as not to affect the number of collisions that occur in both regular and rolling hashing. I have also controlled the values of k for each experiment, so that all 3 algorithms are running for the same inputs. I have changed the value of k between plots to determine the effect that this has on the differences between the time taken for different algorithms (to determine the effect of changing k on the dependent variable).\n",
    "\n",
    "The outputs agree with compuational analyses, as both rolling and regular hashing produce linear growth, and brute force displays a polynomial growth.\n",
    "\n",
    "Considering the outputs of the above graphs, it is evident that the analysis above holds, and that rolling hashing perform much better from a time perspective when we increase substring lengths (k) from 10 to 100. For smaller values of k, they are comparable as the loop to compute hash values from scratch must take a similar amount of time to computing the rolling hash values. \n",
    "\n",
    "Another interesting output we see is the time taken to run each algorithm for string lengths smaller than ~250. Here, we see that brute force performs better than both rolling and regular hashing. This is likley a cause of the time taken for computations involved in both that provides a constant factor to the time complexities. Therefore, in the case of short string inputs, brute force performs faster. This algorithm therefore may be a better choice in the case we wish to compare small pieces of text."
   ]
  },
  {
   "cell_type": "markdown",
   "metadata": {},
   "source": [
    "5.List all the LOs and HCs you have exercised while working on this final assignment as well as a thorough justification of their application. Review your previous assignments and in-class grades, and reflect on your application of these LOS has evolved over time"
   ]
  },
  {
   "cell_type": "markdown",
   "metadata": {},
   "source": [
    "* #AlgorithmicStrategies- I have explained how my algorithms work, justifying the use of certain features: hashing, rolling hashing, double hashing. In order to fully justify the use of double hashing, I have compared it to other open-addressing techniques (linear and quadratic probing), detailing why it is better than these methods by justifying the underlying techniques used, and therefore why it solves the problem more effectively. I have also compared it to chaining, another method to deal with collisions, again detailing the differences between the 2, and where chaining could be more applicable, but why it is comparable in this specific application. In questions 3 and 4, I have compared my algorithms to a brute force approach to the problem, explaining why the rolling hash approach is the best for most applications by first explaining how the brute force algorithm would work. I have used plots to help explain why the algorithm works, such as the collisions plots. I have shown here than the keys are uniformly-distributed, and used this to explain why the algorithm works.\n",
    "* #breakitdown- In order to create the rh_get_match function, I had to break it down into different problems: how to create hash functions for strings, how to ensure these hash values were uniformly-distributed, how to use these hash functions to produce a hash table, how to search for substrings in the hash table, how to generate a list of matching indexes between the 2 strings x and y. As you can see, each step depended on the last, meaning it was necessary to break the overall problem down in this way, and work linearly through the problems, debugging the code at each step along the way. If I were to try and solve the overall problem without breaking it down in this way, I may end up with issues that are not relevant to that paricular step. For example, the hash table produced may contain keys greater than the size of the table itself, an issue that would come from hash functions that do not use modq to restrict the key to less than the table size. It may be difficult to debug this issue, as it may be unclear where it is coming from to begin with, whereas if we first ensure that the hash functions are good, this issue will not arise further down the line. Solving individual, more tractable, subproblems in this manner allowed me to not only produce code more efficiently, but also helped me to produce different useful functions that should be more understandable to others trying to read and comprehend my code. \n",
    "* #CodeReadability- I have produced code that has a sufficient amount of comments for those trying to comprehend my code, but not so many that it becomes cluttered and difficult to read. The comments explain the function of the code on a deeper level, not merely the code rephrased. I have provided clear, well-formatted docstrings for all of my functions used. I have provided examples of how functions work in docstrings where necessary, to provide a more explicit explanation of the function of the code. I have changed the names of functions when adapting them so that they all have clear definitions. I have also included an error message in the creation of the hash table when all positions are filled, so that the user is able to increase the size of the table for it to function. It would otherwise become difficult to debug. \n",
    "* #ComplexityAnalysis- I have derived the complexities of rolling and regular hashing, as well as a brute force approach to the problem as a comparison. I have given detailed explanations of how these complexities arise, referencing functions within the code to demonstrate. I have considered the assumptions I am making within the complexity analysis, concluding why I am able to make these assumptions, and what the worst-case scenario would be (though it would occur by chance, and not be design of the algorithms themselves). I have compared all 3 algorithms' complexities, concluding which may be best for different applications. Furthermore, I have generated plots for the 3 algorithms for 2 different values of k to demonstrate the different behaviours in different situations. I have explained the unexpected outputs for small input values, and therefore why brute force could be a better approach in such situations.\n",
    "* #ComputationalCritique- In questions 3 and 4, I have compared regular and rolling hashing with a brute force approach to the problem. I have explained how the brute force approach would work, and therefore why it does not work as well as the hashing approaches. I have compared both the space and time elements, and therefore explained why brute force may be a better option in specific cases (short string inputs, not much memory available). I have justified these conclusions using plots to generate outputs for different substring lengths, allowing me to show that the brute force approach could work better when the input strings are very short. Furthermore, in question 1, I have justified why we choose to use hashing for such a problem in the first place, and the power that this method holds that others do not.\n",
    "* #DataStructures- I have compared and contrasted the use of the hashing technique with a brute force approach to the problem, explaining why the use of no data structures in a brute force gives a worse out come (worse time complexity). I have also justified the use of hashing in question 1, explaining why it is a good method for this application, and how it allows us to insert and lookup in O(1) time. I have further explained the assumptions we are making to get this time complexity, and howwe can ensure these assumptions hold in the algorithm. In question 1, I have also discussed an alternative to the hash table method (trie trees), explained how this would work for the application, and why it is not necessary. I have also discussed the potential time complexity of such an approach.\n",
    "* #PythonProgramming- I have produced working code for 3 different algorithms to detect plagiarism. I have provided test cases to show that my code is working, including many edge cases which are justified in the code comments. I have used randomly-generated strings with many different characters and numbers to test my code, which can be run multiple times if needed to generate many different test cases. I have also produced code to compare between my algorithms in the final question, generating plots that allow me to explain the time complexities, and any unexpected outputs that could lead to specific conclusions.\n",
    "* #utility- I have used the principles of utility to weigh up the advantages and disadvantages of the 3 algorithms implemented, and therefore draw conclusions about the best applications for each. For example, in question 4, I have considered the experimental outputs of the algorithms, allowing me to conclude that the brute force approach could be more advantageous for small string inputs. I have also considered the space complexity of the different algorithms, and other features that make different ones better for different applications. I have also considered the advantages and limitations of open addressing (double hashing) versus chaining to overcome the issue of collisions. I have weighed up these, allowing me to explain why I have chosen double hashing as the option with the greatest utility for this specific application. I have also explained why for different applications in which deletion from the hash table is necessary, chaining may be a better approach.\n",
    "* #variables- In question 4, in the experimental analysis, I have defined the dependent, independent, and controll variables in my experiments. I have explained why the control variables musts remain constant to be able to accurately compare between algorithms. I have used these definitions to then compare the different algorithms in a fair manner, in which all were under the same conditions so that no bias was displayed.\n",
    "\n",
    "#### Reflection of LO Applications\n",
    "* #AlgorithmicStrategies- I have found this LO the most difficult, especially at the beginning of the semester when I mainly just explained the code. I now believe that I am able to understand and explain algorithms on a deeper level, detailing how and why a specific approach works.\n",
    "* #CodeReadability- I have never written docstrings prior to this class, and my comments mainly consisted of re-explaining the code in natural language. Over the course of the semester, I believe I have learned the importance of and how to appropriately create docstrings and comments which highlight the strategy of the code.\n",
    "* #ComplexityAnalysis- I have found this LO one of the most difficult, mainly in finding the correct metric by which to measure a complexity. However, I believe that I have learned much about how to define complexities in a way in which I can compare them between different algorithms.\n",
    "* #ComputationalCritique- I think that I am now equipped with many different tools to be able to compare different algorithms. After taking CS110, I am now able to consider many factors (eg. space, time) and not just which may be easier to implement.\n",
    "* #DataStructures- Over the course of the semester, I have improved my skills in applying data structures. I have learned how to use many new data structures, and also how to compare between them for different applications, and draw conclusions about which ones are best in different situations.\n",
    "* #PythonProgramming- I think that I have definitely improved in this LO over the course of the semester. To begin with, my main aim in solving a problem was to produce working code, but now I believe I am focussing also on creating code using the most appropriate data structures and algorithmic strategies to effectively solve the problem."
   ]
  }
 ],
 "metadata": {
  "kernelspec": {
   "display_name": "Python 3",
   "language": "python",
   "name": "python3"
  },
  "language_info": {
   "codemirror_mode": {
    "name": "ipython",
    "version": 3
   },
   "file_extension": ".py",
   "mimetype": "text/x-python",
   "name": "python",
   "nbconvert_exporter": "python",
   "pygments_lexer": "ipython3",
   "version": "3.8.3"
  }
 },
 "nbformat": 4,
 "nbformat_minor": 4
}
